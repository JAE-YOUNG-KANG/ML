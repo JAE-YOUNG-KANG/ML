{
 "cells": [
  {
   "cell_type": "markdown",
   "id": "dd7a6b85",
   "metadata": {},
   "source": [
    "# Regression (강재영)"
   ]
  },
  {
   "cell_type": "markdown",
   "id": "fa89a168",
   "metadata": {},
   "source": [
    "## 규제"
   ]
  },
  {
   "cell_type": "markdown",
   "id": "184b2f12",
   "metadata": {},
   "source": [
    "#### - 회귀 모델에서 모델에 규제를 가함으로 과대적합을 방지할 수 있다.\n",
    "#### - 선형회귀모델에서는 릿지, 라쏘, 엘라스틱넷 회귀를 통해 모델의 가중치를 제한한다."
   ]
  },
  {
   "cell_type": "markdown",
   "id": "975a01ac",
   "metadata": {},
   "source": [
    "### - 규제가 있는 선형 회귀 모델의 필요성"
   ]
  },
  {
   "cell_type": "markdown",
   "id": "a2a3599e",
   "metadata": {},
   "source": [
    "#### 과분산 모델에 대해 모델을 규제하면 오버피팅↓\n",
    "#### *규제 = 오버피팅된 파라미터 값에 대해 페널티를 부여하는 것\n",
    "#### *페널티: 없는 회귀 모델보다 계수의 절댓값↓ → 오버피팅 방지\n",
    "#### + 편향 ↑ (규제가 없는 회귀 모델보다 훈련 데이터와 적합도 ↓. But 전체적인 결과 Good.)\n",
    "#### 주의: 오버피팅된 모델은 지나친 노이즈를 반영할 수 있으므로 모델을 단순화하여 좀 더 일반화된 모델로 만들 필요가 있음.\n",
    "\n"
   ]
  },
  {
   "cell_type": "markdown",
   "id": "1c8b31ef",
   "metadata": {},
   "source": [
    "## 릿지 회귀(Ridge Regression)"
   ]
  },
  {
   "cell_type": "markdown",
   "id": "4af357fd",
   "metadata": {},
   "source": [
    "### - 주요 생성 파라미터: alpha (α). -> 모델 규제를 조절함.\n",
    "#### α =0 -> 선형회귀와 동일.\n",
    "#### α가 매우 클 시 -> 모든 가중치가 0에 가까워져 데이터의 평균을 지나는 수평선이 됨.\n"
   ]
  },
  {
   "attachments": {
    "image.png": {
     "image/png": "[encoded data removed]"
    }
   },
   "cell_type": "markdown",
   "id": "10cfa048",
   "metadata": {},
   "source": [
    "#### 가중치 벡터의 제곱항을 합한 L2 노름의 절반 값을 적용.\n",
    "#### ![image.png](attachment:image.png)\n",
    "#### 모델의 가중치가 가능한 작게 유지되도록 함.\n",
    "#### 규제항은 훈련하는 동안에만 비용함수에 추가됨.\n",
    "#### 모델의 훈련이 끝나면 모델의 성능을 규제가 없는 성능 지표로 평가.\n",
    "\n"
   ]
  },
  {
   "cell_type": "markdown",
   "id": "bf100f94",
   "metadata": {},
   "source": [
    "## 라쏘 회귀(Lasso Regression)"
   ]
  },
  {
   "attachments": {
    "image.png": {
     "image/png": "[encoded data removed]"
    }
   },
   "cell_type": "markdown",
   "id": "379bc78d",
   "metadata": {},
   "source": [
    "#### 가중치 벡터의 절댓값의 합인 L1 노름을 적용.\n",
    "#### ![image.png](attachment:image.png)\n",
    "#### 불필요한 회귀 계수를 가중치(0)를 완전히 제거하려고 함.\n",
    "#### 차수가 높은 다항 특징의 가중치를 0으로 만듦.\n",
    "#### 자동으로 변수를 선택하고 희소모델(sparse model)을 만듦. (0이 아닌 변수의 가중치가 적음)\n"
   ]
  },
  {
   "cell_type": "markdown",
   "id": "eb28c2c4",
   "metadata": {},
   "source": [
    "## 엘라스틱 넷(Elastic Net)"
   ]
  },
  {
   "cell_type": "markdown",
   "id": "7b4ad7ee",
   "metadata": {},
   "source": [
    "### - 릿지 회귀와 라쏘 회귀의 절충 모델.\n",
    "### - 규제항은 릿지와 회귀의 규제항을 단순히 결합하여 사용하며, 두 규제 항의 혼합정도를 혼합비율 r을 사용해 조절.\n",
    "#### r=0 -> 릿지 회귀\n",
    "#### r=1 -> 라쏘 회귀\n"
   ]
  },
  {
   "cell_type": "markdown",
   "id": "22831f6d",
   "metadata": {},
   "source": [
    "### --- 보스턴 주택 가격 데이터 셋 사용 ---"
   ]
  },
  {
   "cell_type": "code",
   "execution_count": 1,
   "id": "7f4b8a83",
   "metadata": {},
   "outputs": [],
   "source": [
    "from sklearn.datasets import load_boston\n",
    "\n",
    "import numpy as np\n",
    "import pandas as pd\n",
    "\n",
    "import scipy as sp\n",
    "import scipy.stats as stats\n",
    "\n",
    "import statsmodels.api as sm\n",
    "from statsmodels.formula.api import ols\n",
    "\n",
    "from sklearn.model_selection import train_test_split\n",
    "from sklearn.metrics import mean_squared_error, r2_score, mean_absolute_error\n",
    "\n",
    "import seaborn as sns\n",
    "import matplotlib.pyplot as plt"
   ]
  },
  {
   "cell_type": "code",
   "execution_count": 2,
   "id": "680b105a",
   "metadata": {},
   "outputs": [
    {
     "name": "stdout",
     "output_type": "stream",
     "text": [
      ".. _boston_dataset:\n",
      "\n",
      "Boston house prices dataset\n",
      "---------------------------\n",
      "\n",
      "**Data Set Characteristics:**  \n",
      "\n",
      "    :Number of Instances: 506 \n",
      "\n",
      "    :Number of Attributes: 13 numeric/categorical predictive. Median Value (attribute 14) is usually the target.\n",
      "\n",
      "    :Attribute Information (in order):\n",
      "        - CRIM     per capita crime rate by town\n",
      "        - ZN       proportion of residential land zoned for lots over 25,000 sq.ft.\n",
      "        - INDUS    proportion of non-retail business acres per town\n",
      "        - CHAS     Charles River dummy variable (= 1 if tract bounds river; 0 otherwise)\n",
      "        - NOX      nitric oxides concentration (parts per 10 million)\n",
      "        - RM       average number of rooms per dwelling\n",
      "        - AGE      proportion of owner-occupied units built prior to 1940\n",
      "        - DIS      weighted distances to five Boston employment centres\n",
      "        - RAD      index of accessibility to radial highways\n",
      "        - TAX      full-value property-tax rate per $10,000\n",
      "        - PTRATIO  pupil-teacher ratio by town\n",
      "        - B        1000(Bk - 0.63)^2 where Bk is the proportion of black people by town\n",
      "        - LSTAT    % lower status of the population\n",
      "        - MEDV     Median value of owner-occupied homes in $1000's\n",
      "\n",
      "    :Missing Attribute Values: None\n",
      "\n",
      "    :Creator: Harrison, D. and Rubinfeld, D.L.\n",
      "\n",
      "This is a copy of UCI ML housing dataset.\n",
      "https://archive.ics.uci.edu/ml/machine-learning-databases/housing/\n",
      "\n",
      "\n",
      "This dataset was taken from the StatLib library which is maintained at Carnegie Mellon University.\n",
      "\n",
      "The Boston house-price data of Harrison, D. and Rubinfeld, D.L. 'Hedonic\n",
      "prices and the demand for clean air', J. Environ. Economics & Management,\n",
      "vol.5, 81-102, 1978.   Used in Belsley, Kuh & Welsch, 'Regression diagnostics\n",
      "...', Wiley, 1980.   N.B. Various transformations are used in the table on\n",
      "pages 244-261 of the latter.\n",
      "\n",
      "The Boston house-price data has been used in many machine learning papers that address regression\n",
      "problems.   \n",
      "     \n",
      ".. topic:: References\n",
      "\n",
      "   - Belsley, Kuh & Welsch, 'Regression diagnostics: Identifying Influential Data and Sources of Collinearity', Wiley, 1980. 244-261.\n",
      "   - Quinlan,R. (1993). Combining Instance-Based and Model-Based Learning. In Proceedings on the Tenth International Conference of Machine Learning, 236-243, University of Massachusetts, Amherst. Morgan Kaufmann.\n",
      "\n"
     ]
    }
   ],
   "source": [
    "#Discription 출력\n",
    "boston = load_boston()\n",
    "print(boston.DESCR)"
   ]
  },
  {
   "cell_type": "code",
   "execution_count": 3,
   "id": "8e849e1f",
   "metadata": {},
   "outputs": [
    {
     "data": {
      "text/plain": [
       "array([[6.3200e-03, 1.8000e+01, 2.3100e+00, ..., 1.5300e+01, 3.9690e+02,\n",
       "        4.9800e+00],\n",
       "       [2.7310e-02, 0.0000e+00, 7.0700e+00, ..., 1.7800e+01, 3.9690e+02,\n",
       "        9.1400e+00],\n",
       "       [2.7290e-02, 0.0000e+00, 7.0700e+00, ..., 1.7800e+01, 3.9283e+02,\n",
       "        4.0300e+00],\n",
       "       ...,\n",
       "       [6.0760e-02, 0.0000e+00, 1.1930e+01, ..., 2.1000e+01, 3.9690e+02,\n",
       "        5.6400e+00],\n",
       "       [1.0959e-01, 0.0000e+00, 1.1930e+01, ..., 2.1000e+01, 3.9345e+02,\n",
       "        6.4800e+00],\n",
       "       [4.7410e-02, 0.0000e+00, 1.1930e+01, ..., 2.1000e+01, 3.9690e+02,\n",
       "        7.8800e+00]])"
      ]
     },
     "execution_count": 3,
     "metadata": {},
     "output_type": "execute_result"
    }
   ],
   "source": [
    "#Data의 x변수\n",
    "boston.data"
   ]
  },
  {
   "cell_type": "code",
   "execution_count": 4,
   "id": "ef99b872",
   "metadata": {},
   "outputs": [
    {
     "data": {
      "text/plain": [
       "array([24. , 21.6, 34.7, 33.4, 36.2, 28.7, 22.9, 27.1, 16.5, 18.9, 15. ,\n",
       "       18.9, 21.7, 20.4, 18.2, 19.9, 23.1, 17.5, 20.2, 18.2, 13.6, 19.6,\n",
       "       15.2, 14.5, 15.6, 13.9, 16.6, 14.8, 18.4, 21. , 12.7, 14.5, 13.2,\n",
       "       13.1, 13.5, 18.9, 20. , 21. , 24.7, 30.8, 34.9, 26.6, 25.3, 24.7,\n",
       "       21.2, 19.3, 20. , 16.6, 14.4, 19.4, 19.7, 20.5, 25. , 23.4, 18.9,\n",
       "       35.4, 24.7, 31.6, 23.3, 19.6, 18.7, 16. , 22.2, 25. , 33. , 23.5,\n",
       "       19.4, 22. , 17.4, 20.9, 24.2, 21.7, 22.8, 23.4, 24.1, 21.4, 20. ,\n",
       "       20.8, 21.2, 20.3, 28. , 23.9, 24.8, 22.9, 23.9, 26.6, 22.5, 22.2,\n",
       "       23.6, 28.7, 22.6, 22. , 22.9, 25. , 20.6, 28.4, 21.4, 38.7, 43.8,\n",
       "       33.2, 27.5, 26.5, 18.6, 19.3, 20.1, 19.5, 19.5, 20.4, 19.8, 19.4,\n",
       "       21.7, 22.8, 18.8, 18.7, 18.5, 18.3, 21.2, 19.2, 20.4, 19.3, 22. ,\n",
       "       20.3, 20.5, 17.3, 18.8, 21.4, 15.7, 16.2, 18. , 14.3, 19.2, 19.6,\n",
       "       23. , 18.4, 15.6, 18.1, 17.4, 17.1, 13.3, 17.8, 14. , 14.4, 13.4,\n",
       "       15.6, 11.8, 13.8, 15.6, 14.6, 17.8, 15.4, 21.5, 19.6, 15.3, 19.4,\n",
       "       17. , 15.6, 13.1, 41.3, 24.3, 23.3, 27. , 50. , 50. , 50. , 22.7,\n",
       "       25. , 50. , 23.8, 23.8, 22.3, 17.4, 19.1, 23.1, 23.6, 22.6, 29.4,\n",
       "       23.2, 24.6, 29.9, 37.2, 39.8, 36.2, 37.9, 32.5, 26.4, 29.6, 50. ,\n",
       "       32. , 29.8, 34.9, 37. , 30.5, 36.4, 31.1, 29.1, 50. , 33.3, 30.3,\n",
       "       34.6, 34.9, 32.9, 24.1, 42.3, 48.5, 50. , 22.6, 24.4, 22.5, 24.4,\n",
       "       20. , 21.7, 19.3, 22.4, 28.1, 23.7, 25. , 23.3, 28.7, 21.5, 23. ,\n",
       "       26.7, 21.7, 27.5, 30.1, 44.8, 50. , 37.6, 31.6, 46.7, 31.5, 24.3,\n",
       "       31.7, 41.7, 48.3, 29. , 24. , 25.1, 31.5, 23.7, 23.3, 22. , 20.1,\n",
       "       22.2, 23.7, 17.6, 18.5, 24.3, 20.5, 24.5, 26.2, 24.4, 24.8, 29.6,\n",
       "       42.8, 21.9, 20.9, 44. , 50. , 36. , 30.1, 33.8, 43.1, 48.8, 31. ,\n",
       "       36.5, 22.8, 30.7, 50. , 43.5, 20.7, 21.1, 25.2, 24.4, 35.2, 32.4,\n",
       "       32. , 33.2, 33.1, 29.1, 35.1, 45.4, 35.4, 46. , 50. , 32.2, 22. ,\n",
       "       20.1, 23.2, 22.3, 24.8, 28.5, 37.3, 27.9, 23.9, 21.7, 28.6, 27.1,\n",
       "       20.3, 22.5, 29. , 24.8, 22. , 26.4, 33.1, 36.1, 28.4, 33.4, 28.2,\n",
       "       22.8, 20.3, 16.1, 22.1, 19.4, 21.6, 23.8, 16.2, 17.8, 19.8, 23.1,\n",
       "       21. , 23.8, 23.1, 20.4, 18.5, 25. , 24.6, 23. , 22.2, 19.3, 22.6,\n",
       "       19.8, 17.1, 19.4, 22.2, 20.7, 21.1, 19.5, 18.5, 20.6, 19. , 18.7,\n",
       "       32.7, 16.5, 23.9, 31.2, 17.5, 17.2, 23.1, 24.5, 26.6, 22.9, 24.1,\n",
       "       18.6, 30.1, 18.2, 20.6, 17.8, 21.7, 22.7, 22.6, 25. , 19.9, 20.8,\n",
       "       16.8, 21.9, 27.5, 21.9, 23.1, 50. , 50. , 50. , 50. , 50. , 13.8,\n",
       "       13.8, 15. , 13.9, 13.3, 13.1, 10.2, 10.4, 10.9, 11.3, 12.3,  8.8,\n",
       "        7.2, 10.5,  7.4, 10.2, 11.5, 15.1, 23.2,  9.7, 13.8, 12.7, 13.1,\n",
       "       12.5,  8.5,  5. ,  6.3,  5.6,  7.2, 12.1,  8.3,  8.5,  5. , 11.9,\n",
       "       27.9, 17.2, 27.5, 15. , 17.2, 17.9, 16.3,  7. ,  7.2,  7.5, 10.4,\n",
       "        8.8,  8.4, 16.7, 14.2, 20.8, 13.4, 11.7,  8.3, 10.2, 10.9, 11. ,\n",
       "        9.5, 14.5, 14.1, 16.1, 14.3, 11.7, 13.4,  9.6,  8.7,  8.4, 12.8,\n",
       "       10.5, 17.1, 18.4, 15.4, 10.8, 11.8, 14.9, 12.6, 14.1, 13. , 13.4,\n",
       "       15.2, 16.1, 17.8, 14.9, 14.1, 12.7, 13.5, 14.9, 20. , 16.4, 17.7,\n",
       "       19.5, 20.2, 21.4, 19.9, 19. , 19.1, 19.1, 20.1, 19.9, 19.6, 23.2,\n",
       "       29.8, 13.8, 13.3, 16.7, 12. , 14.6, 21.4, 23. , 23.7, 25. , 21.8,\n",
       "       20.6, 21.2, 19.1, 20.6, 15.2,  7. ,  8.1, 13.6, 20.1, 21.8, 24.5,\n",
       "       23.1, 19.7, 18.3, 21.2, 17.5, 16.8, 22.4, 20.6, 23.9, 22. , 11.9])"
      ]
     },
     "execution_count": 4,
     "metadata": {},
     "output_type": "execute_result"
    }
   ],
   "source": [
    "#Data의 y변수\n",
    "boston.target"
   ]
  },
  {
   "cell_type": "code",
   "execution_count": 5,
   "id": "55bf291f",
   "metadata": {},
   "outputs": [
    {
     "data": {
      "text/plain": [
       "array(['CRIM', 'ZN', 'INDUS', 'CHAS', 'NOX', 'RM', 'AGE', 'DIS', 'RAD',\n",
       "       'TAX', 'PTRATIO', 'B', 'LSTAT'], dtype='<U7')"
      ]
     },
     "execution_count": 5,
     "metadata": {},
     "output_type": "execute_result"
    }
   ],
   "source": [
    "#Data 변수명\n",
    "boston.feature_names"
   ]
  },
  {
   "cell_type": "code",
   "execution_count": 6,
   "id": "0bd91031",
   "metadata": {},
   "outputs": [
    {
     "data": {
      "text/plain": [
       "(506, 13)"
      ]
     },
     "execution_count": 6,
     "metadata": {},
     "output_type": "execute_result"
    }
   ],
   "source": [
    "#Data 규격\n",
    "boston.data.shape"
   ]
  },
  {
   "cell_type": "code",
   "execution_count": 7,
   "id": "0abec858",
   "metadata": {},
   "outputs": [],
   "source": [
    "#DataFrame 형태로 변환\n",
    "X = pd.DataFrame(boston.data, columns=boston.feature_names)\n",
    "y = pd.DataFrame(boston.target, columns=['MEDV'])"
   ]
  },
  {
   "cell_type": "code",
   "execution_count": 8,
   "id": "8548b0ed",
   "metadata": {},
   "outputs": [
    {
     "data": {
      "text/html": [
       "<div>\n",
       "<style scoped>\n",
       "    .dataframe tbody tr th:only-of-type {\n",
       "        vertical-align: middle;\n",
       "    }\n",
       "\n",
       "    .dataframe tbody tr th {\n",
       "        vertical-align: top;\n",
       "    }\n",
       "\n",
       "    .dataframe thead th {\n",
       "        text-align: right;\n",
       "    }\n",
       "</style>\n",
       "<table border=\"1\" class=\"dataframe\">\n",
       "  <thead>\n",
       "    <tr style=\"text-align: right;\">\n",
       "      <th></th>\n",
       "      <th>CRIM</th>\n",
       "      <th>ZN</th>\n",
       "      <th>INDUS</th>\n",
       "      <th>CHAS</th>\n",
       "      <th>NOX</th>\n",
       "      <th>RM</th>\n",
       "      <th>AGE</th>\n",
       "      <th>DIS</th>\n",
       "      <th>RAD</th>\n",
       "      <th>TAX</th>\n",
       "      <th>PTRATIO</th>\n",
       "      <th>B</th>\n",
       "      <th>LSTAT</th>\n",
       "    </tr>\n",
       "  </thead>\n",
       "  <tbody>\n",
       "    <tr>\n",
       "      <th>0</th>\n",
       "      <td>0.00632</td>\n",
       "      <td>18.0</td>\n",
       "      <td>2.31</td>\n",
       "      <td>0.0</td>\n",
       "      <td>0.538</td>\n",
       "      <td>6.575</td>\n",
       "      <td>65.2</td>\n",
       "      <td>4.0900</td>\n",
       "      <td>1.0</td>\n",
       "      <td>296.0</td>\n",
       "      <td>15.3</td>\n",
       "      <td>396.90</td>\n",
       "      <td>4.98</td>\n",
       "    </tr>\n",
       "    <tr>\n",
       "      <th>1</th>\n",
       "      <td>0.02731</td>\n",
       "      <td>0.0</td>\n",
       "      <td>7.07</td>\n",
       "      <td>0.0</td>\n",
       "      <td>0.469</td>\n",
       "      <td>6.421</td>\n",
       "      <td>78.9</td>\n",
       "      <td>4.9671</td>\n",
       "      <td>2.0</td>\n",
       "      <td>242.0</td>\n",
       "      <td>17.8</td>\n",
       "      <td>396.90</td>\n",
       "      <td>9.14</td>\n",
       "    </tr>\n",
       "    <tr>\n",
       "      <th>2</th>\n",
       "      <td>0.02729</td>\n",
       "      <td>0.0</td>\n",
       "      <td>7.07</td>\n",
       "      <td>0.0</td>\n",
       "      <td>0.469</td>\n",
       "      <td>7.185</td>\n",
       "      <td>61.1</td>\n",
       "      <td>4.9671</td>\n",
       "      <td>2.0</td>\n",
       "      <td>242.0</td>\n",
       "      <td>17.8</td>\n",
       "      <td>392.83</td>\n",
       "      <td>4.03</td>\n",
       "    </tr>\n",
       "    <tr>\n",
       "      <th>3</th>\n",
       "      <td>0.03237</td>\n",
       "      <td>0.0</td>\n",
       "      <td>2.18</td>\n",
       "      <td>0.0</td>\n",
       "      <td>0.458</td>\n",
       "      <td>6.998</td>\n",
       "      <td>45.8</td>\n",
       "      <td>6.0622</td>\n",
       "      <td>3.0</td>\n",
       "      <td>222.0</td>\n",
       "      <td>18.7</td>\n",
       "      <td>394.63</td>\n",
       "      <td>2.94</td>\n",
       "    </tr>\n",
       "    <tr>\n",
       "      <th>4</th>\n",
       "      <td>0.06905</td>\n",
       "      <td>0.0</td>\n",
       "      <td>2.18</td>\n",
       "      <td>0.0</td>\n",
       "      <td>0.458</td>\n",
       "      <td>7.147</td>\n",
       "      <td>54.2</td>\n",
       "      <td>6.0622</td>\n",
       "      <td>3.0</td>\n",
       "      <td>222.0</td>\n",
       "      <td>18.7</td>\n",
       "      <td>396.90</td>\n",
       "      <td>5.33</td>\n",
       "    </tr>\n",
       "    <tr>\n",
       "      <th>...</th>\n",
       "      <td>...</td>\n",
       "      <td>...</td>\n",
       "      <td>...</td>\n",
       "      <td>...</td>\n",
       "      <td>...</td>\n",
       "      <td>...</td>\n",
       "      <td>...</td>\n",
       "      <td>...</td>\n",
       "      <td>...</td>\n",
       "      <td>...</td>\n",
       "      <td>...</td>\n",
       "      <td>...</td>\n",
       "      <td>...</td>\n",
       "    </tr>\n",
       "    <tr>\n",
       "      <th>501</th>\n",
       "      <td>0.06263</td>\n",
       "      <td>0.0</td>\n",
       "      <td>11.93</td>\n",
       "      <td>0.0</td>\n",
       "      <td>0.573</td>\n",
       "      <td>6.593</td>\n",
       "      <td>69.1</td>\n",
       "      <td>2.4786</td>\n",
       "      <td>1.0</td>\n",
       "      <td>273.0</td>\n",
       "      <td>21.0</td>\n",
       "      <td>391.99</td>\n",
       "      <td>9.67</td>\n",
       "    </tr>\n",
       "    <tr>\n",
       "      <th>502</th>\n",
       "      <td>0.04527</td>\n",
       "      <td>0.0</td>\n",
       "      <td>11.93</td>\n",
       "      <td>0.0</td>\n",
       "      <td>0.573</td>\n",
       "      <td>6.120</td>\n",
       "      <td>76.7</td>\n",
       "      <td>2.2875</td>\n",
       "      <td>1.0</td>\n",
       "      <td>273.0</td>\n",
       "      <td>21.0</td>\n",
       "      <td>396.90</td>\n",
       "      <td>9.08</td>\n",
       "    </tr>\n",
       "    <tr>\n",
       "      <th>503</th>\n",
       "      <td>0.06076</td>\n",
       "      <td>0.0</td>\n",
       "      <td>11.93</td>\n",
       "      <td>0.0</td>\n",
       "      <td>0.573</td>\n",
       "      <td>6.976</td>\n",
       "      <td>91.0</td>\n",
       "      <td>2.1675</td>\n",
       "      <td>1.0</td>\n",
       "      <td>273.0</td>\n",
       "      <td>21.0</td>\n",
       "      <td>396.90</td>\n",
       "      <td>5.64</td>\n",
       "    </tr>\n",
       "    <tr>\n",
       "      <th>504</th>\n",
       "      <td>0.10959</td>\n",
       "      <td>0.0</td>\n",
       "      <td>11.93</td>\n",
       "      <td>0.0</td>\n",
       "      <td>0.573</td>\n",
       "      <td>6.794</td>\n",
       "      <td>89.3</td>\n",
       "      <td>2.3889</td>\n",
       "      <td>1.0</td>\n",
       "      <td>273.0</td>\n",
       "      <td>21.0</td>\n",
       "      <td>393.45</td>\n",
       "      <td>6.48</td>\n",
       "    </tr>\n",
       "    <tr>\n",
       "      <th>505</th>\n",
       "      <td>0.04741</td>\n",
       "      <td>0.0</td>\n",
       "      <td>11.93</td>\n",
       "      <td>0.0</td>\n",
       "      <td>0.573</td>\n",
       "      <td>6.030</td>\n",
       "      <td>80.8</td>\n",
       "      <td>2.5050</td>\n",
       "      <td>1.0</td>\n",
       "      <td>273.0</td>\n",
       "      <td>21.0</td>\n",
       "      <td>396.90</td>\n",
       "      <td>7.88</td>\n",
       "    </tr>\n",
       "  </tbody>\n",
       "</table>\n",
       "<p>506 rows × 13 columns</p>\n",
       "</div>"
      ],
      "text/plain": [
       "        CRIM    ZN  INDUS  CHAS    NOX     RM   AGE     DIS  RAD    TAX  \\\n",
       "0    0.00632  18.0   2.31   0.0  0.538  6.575  65.2  4.0900  1.0  296.0   \n",
       "1    0.02731   0.0   7.07   0.0  0.469  6.421  78.9  4.9671  2.0  242.0   \n",
       "2    0.02729   0.0   7.07   0.0  0.469  7.185  61.1  4.9671  2.0  242.0   \n",
       "3    0.03237   0.0   2.18   0.0  0.458  6.998  45.8  6.0622  3.0  222.0   \n",
       "4    0.06905   0.0   2.18   0.0  0.458  7.147  54.2  6.0622  3.0  222.0   \n",
       "..       ...   ...    ...   ...    ...    ...   ...     ...  ...    ...   \n",
       "501  0.06263   0.0  11.93   0.0  0.573  6.593  69.1  2.4786  1.0  273.0   \n",
       "502  0.04527   0.0  11.93   0.0  0.573  6.120  76.7  2.2875  1.0  273.0   \n",
       "503  0.06076   0.0  11.93   0.0  0.573  6.976  91.0  2.1675  1.0  273.0   \n",
       "504  0.10959   0.0  11.93   0.0  0.573  6.794  89.3  2.3889  1.0  273.0   \n",
       "505  0.04741   0.0  11.93   0.0  0.573  6.030  80.8  2.5050  1.0  273.0   \n",
       "\n",
       "     PTRATIO       B  LSTAT  \n",
       "0       15.3  396.90   4.98  \n",
       "1       17.8  396.90   9.14  \n",
       "2       17.8  392.83   4.03  \n",
       "3       18.7  394.63   2.94  \n",
       "4       18.7  396.90   5.33  \n",
       "..       ...     ...    ...  \n",
       "501     21.0  391.99   9.67  \n",
       "502     21.0  396.90   9.08  \n",
       "503     21.0  396.90   5.64  \n",
       "504     21.0  393.45   6.48  \n",
       "505     21.0  396.90   7.88  \n",
       "\n",
       "[506 rows x 13 columns]"
      ]
     },
     "execution_count": 8,
     "metadata": {},
     "output_type": "execute_result"
    }
   ],
   "source": [
    "X"
   ]
  },
  {
   "cell_type": "code",
   "execution_count": 9,
   "id": "240037ec",
   "metadata": {},
   "outputs": [
    {
     "data": {
      "text/html": [
       "<div>\n",
       "<style scoped>\n",
       "    .dataframe tbody tr th:only-of-type {\n",
       "        vertical-align: middle;\n",
       "    }\n",
       "\n",
       "    .dataframe tbody tr th {\n",
       "        vertical-align: top;\n",
       "    }\n",
       "\n",
       "    .dataframe thead th {\n",
       "        text-align: right;\n",
       "    }\n",
       "</style>\n",
       "<table border=\"1\" class=\"dataframe\">\n",
       "  <thead>\n",
       "    <tr style=\"text-align: right;\">\n",
       "      <th></th>\n",
       "      <th>CRIM</th>\n",
       "      <th>ZN</th>\n",
       "      <th>INDUS</th>\n",
       "      <th>CHAS</th>\n",
       "      <th>NOX</th>\n",
       "      <th>RM</th>\n",
       "      <th>AGE</th>\n",
       "      <th>DIS</th>\n",
       "      <th>RAD</th>\n",
       "      <th>TAX</th>\n",
       "      <th>PTRATIO</th>\n",
       "      <th>B</th>\n",
       "      <th>LSTAT</th>\n",
       "    </tr>\n",
       "  </thead>\n",
       "  <tbody>\n",
       "    <tr>\n",
       "      <th>0</th>\n",
       "      <td>0.00632</td>\n",
       "      <td>18.0</td>\n",
       "      <td>2.31</td>\n",
       "      <td>0.0</td>\n",
       "      <td>0.538</td>\n",
       "      <td>6.575</td>\n",
       "      <td>65.2</td>\n",
       "      <td>4.0900</td>\n",
       "      <td>1.0</td>\n",
       "      <td>296.0</td>\n",
       "      <td>15.3</td>\n",
       "      <td>396.90</td>\n",
       "      <td>4.98</td>\n",
       "    </tr>\n",
       "    <tr>\n",
       "      <th>1</th>\n",
       "      <td>0.02731</td>\n",
       "      <td>0.0</td>\n",
       "      <td>7.07</td>\n",
       "      <td>0.0</td>\n",
       "      <td>0.469</td>\n",
       "      <td>6.421</td>\n",
       "      <td>78.9</td>\n",
       "      <td>4.9671</td>\n",
       "      <td>2.0</td>\n",
       "      <td>242.0</td>\n",
       "      <td>17.8</td>\n",
       "      <td>396.90</td>\n",
       "      <td>9.14</td>\n",
       "    </tr>\n",
       "    <tr>\n",
       "      <th>2</th>\n",
       "      <td>0.02729</td>\n",
       "      <td>0.0</td>\n",
       "      <td>7.07</td>\n",
       "      <td>0.0</td>\n",
       "      <td>0.469</td>\n",
       "      <td>7.185</td>\n",
       "      <td>61.1</td>\n",
       "      <td>4.9671</td>\n",
       "      <td>2.0</td>\n",
       "      <td>242.0</td>\n",
       "      <td>17.8</td>\n",
       "      <td>392.83</td>\n",
       "      <td>4.03</td>\n",
       "    </tr>\n",
       "    <tr>\n",
       "      <th>3</th>\n",
       "      <td>0.03237</td>\n",
       "      <td>0.0</td>\n",
       "      <td>2.18</td>\n",
       "      <td>0.0</td>\n",
       "      <td>0.458</td>\n",
       "      <td>6.998</td>\n",
       "      <td>45.8</td>\n",
       "      <td>6.0622</td>\n",
       "      <td>3.0</td>\n",
       "      <td>222.0</td>\n",
       "      <td>18.7</td>\n",
       "      <td>394.63</td>\n",
       "      <td>2.94</td>\n",
       "    </tr>\n",
       "    <tr>\n",
       "      <th>4</th>\n",
       "      <td>0.06905</td>\n",
       "      <td>0.0</td>\n",
       "      <td>2.18</td>\n",
       "      <td>0.0</td>\n",
       "      <td>0.458</td>\n",
       "      <td>7.147</td>\n",
       "      <td>54.2</td>\n",
       "      <td>6.0622</td>\n",
       "      <td>3.0</td>\n",
       "      <td>222.0</td>\n",
       "      <td>18.7</td>\n",
       "      <td>396.90</td>\n",
       "      <td>5.33</td>\n",
       "    </tr>\n",
       "  </tbody>\n",
       "</table>\n",
       "</div>"
      ],
      "text/plain": [
       "      CRIM    ZN  INDUS  CHAS    NOX     RM   AGE     DIS  RAD    TAX  \\\n",
       "0  0.00632  18.0   2.31   0.0  0.538  6.575  65.2  4.0900  1.0  296.0   \n",
       "1  0.02731   0.0   7.07   0.0  0.469  6.421  78.9  4.9671  2.0  242.0   \n",
       "2  0.02729   0.0   7.07   0.0  0.469  7.185  61.1  4.9671  2.0  242.0   \n",
       "3  0.03237   0.0   2.18   0.0  0.458  6.998  45.8  6.0622  3.0  222.0   \n",
       "4  0.06905   0.0   2.18   0.0  0.458  7.147  54.2  6.0622  3.0  222.0   \n",
       "\n",
       "   PTRATIO       B  LSTAT  \n",
       "0     15.3  396.90   4.98  \n",
       "1     17.8  396.90   9.14  \n",
       "2     17.8  392.83   4.03  \n",
       "3     18.7  394.63   2.94  \n",
       "4     18.7  396.90   5.33  "
      ]
     },
     "execution_count": 9,
     "metadata": {},
     "output_type": "execute_result"
    }
   ],
   "source": [
    "#상위 5개의 X만 출력\n",
    "X.head()"
   ]
  },
  {
   "cell_type": "code",
   "execution_count": 10,
   "id": "3f1dc391",
   "metadata": {},
   "outputs": [
    {
     "data": {
      "text/html": [
       "<div>\n",
       "<style scoped>\n",
       "    .dataframe tbody tr th:only-of-type {\n",
       "        vertical-align: middle;\n",
       "    }\n",
       "\n",
       "    .dataframe tbody tr th {\n",
       "        vertical-align: top;\n",
       "    }\n",
       "\n",
       "    .dataframe thead th {\n",
       "        text-align: right;\n",
       "    }\n",
       "</style>\n",
       "<table border=\"1\" class=\"dataframe\">\n",
       "  <thead>\n",
       "    <tr style=\"text-align: right;\">\n",
       "      <th></th>\n",
       "      <th>MEDV</th>\n",
       "    </tr>\n",
       "  </thead>\n",
       "  <tbody>\n",
       "    <tr>\n",
       "      <th>0</th>\n",
       "      <td>24.0</td>\n",
       "    </tr>\n",
       "    <tr>\n",
       "      <th>1</th>\n",
       "      <td>21.6</td>\n",
       "    </tr>\n",
       "    <tr>\n",
       "      <th>2</th>\n",
       "      <td>34.7</td>\n",
       "    </tr>\n",
       "    <tr>\n",
       "      <th>3</th>\n",
       "      <td>33.4</td>\n",
       "    </tr>\n",
       "    <tr>\n",
       "      <th>4</th>\n",
       "      <td>36.2</td>\n",
       "    </tr>\n",
       "  </tbody>\n",
       "</table>\n",
       "</div>"
      ],
      "text/plain": [
       "   MEDV\n",
       "0  24.0\n",
       "1  21.6\n",
       "2  34.7\n",
       "3  33.4\n",
       "4  36.2"
      ]
     },
     "execution_count": 10,
     "metadata": {},
     "output_type": "execute_result"
    }
   ],
   "source": [
    "#상위 5개의 y만 출력\n",
    "y.head()"
   ]
  },
  {
   "cell_type": "code",
   "execution_count": 11,
   "id": "69f337aa",
   "metadata": {},
   "outputs": [],
   "source": [
    "#Train set/Test set 나누기 test\n",
    "#test size: 20%\n",
    "X_train, X_test, y_train, y_test = train_test_split(X, y, test_size=0.2, random_state=2021)"
   ]
  },
  {
   "cell_type": "code",
   "execution_count": 12,
   "id": "3f7340f2",
   "metadata": {},
   "outputs": [
    {
     "name": "stderr",
     "output_type": "stream",
     "text": [
      "C:\\Users\\tom11\\anaconda3\\lib\\site-packages\\statsmodels\\tsa\\tsatools.py:142: FutureWarning: In a future version of pandas all arguments of concat except for the argument 'objs' will be keyword-only\n",
      "  x = pd.concat(x[::order], 1)\n"
     ]
    }
   ],
   "source": [
    "#선형회귀 모델 가정 확인\n",
    "#beta0가 구성될 수 있도록 1로 구성된 벡터를 추가하는 과정\n",
    "X_train = sm.add_constant(X_train)\n",
    "model = sm.OLS(y_train, X_train, axis=1)\n",
    "model_trained = model.fit()"
   ]
  },
  {
   "cell_type": "code",
   "execution_count": 13,
   "id": "4aaf8411",
   "metadata": {},
   "outputs": [
    {
     "data": {
      "image/png": "[encoded data removed]",
      "text/plain": [
       "<Figure size 864x864 with 1 Axes>"
      ]
     },
     "metadata": {
      "needs_background": "light"
     },
     "output_type": "display_data"
    }
   ],
   "source": [
    "#확률오차의 정규성 확인\n",
    "model_residuals = model_trained.resid\n",
    "\n",
    "plt.rcParams['axes.unicode_minus'] = False #음수 폰트 깨짐 방지\n",
    "fig,ax = plt.subplots(1,1)\n",
    "fig.set_figheight(12)\n",
    "fig.set_figwidth(12)\n",
    "\n",
    "sm.ProbPlot(model_residuals).qqplot(line='s', color = '#1f77b4', ax=ax)\n",
    "ax.title.set_text('QQ Plot')"
   ]
  },
  {
   "cell_type": "code",
   "execution_count": 14,
   "id": "05b1fcc1",
   "metadata": {},
   "outputs": [
    {
     "name": "stderr",
     "output_type": "stream",
     "text": [
      "C:\\Users\\tom11\\anaconda3\\lib\\site-packages\\seaborn\\_decorators.py:36: FutureWarning: Pass the following variables as keyword args: x, y. From version 0.12, the only valid positional argument will be `data`, and passing other arguments without an explicit keyword will result in an error or misinterpretation.\n",
      "  warnings.warn(\n"
     ]
    },
    {
     "data": {
      "text/plain": [
       "[Text(0.5, 0, 'Fittered values'), Text(0, 0.5, 'Residuals')]"
      ]
     },
     "execution_count": 14,
     "metadata": {},
     "output_type": "execute_result"
    },
    {
     "data": {
      "image/png": "[encoded data removed]",
      "text/plain": [
       "<Figure size 864x576 with 1 Axes>"
      ]
     },
     "metadata": {
      "needs_background": "light"
     },
     "output_type": "display_data"
    }
   ],
   "source": [
    "#확률오차의 등분산성 확인\n",
    "model_fitted_y = model_trained.fittedvalues\n",
    "\n",
    "fig, ax = plt.subplots(1,1)\n",
    "fig.set_figheight(8)\n",
    "fig.set_figwidth(12)\n",
    "\n",
    "sns.residplot(model_fitted_y, y_train, data=X_train, lowess=True, scatter_kws={'alpha':0.5},\n",
    "             line_kws={'color':'red'}, ax=ax)\n",
    "\n",
    "ax.title.set_text('Residuals vs Fittered')\n",
    "ax.set(xlabel='Fittered values', ylabel='Residuals')"
   ]
  },
  {
   "cell_type": "code",
   "execution_count": 15,
   "id": "7f1f3ad2",
   "metadata": {},
   "outputs": [
    {
     "name": "stdout",
     "output_type": "stream",
     "text": [
      "                            OLS Regression Results                            \n",
      "==============================================================================\n",
      "Dep. Variable:                   MEDV   R-squared:                       0.756\n",
      "Model:                            OLS   Adj. R-squared:                  0.748\n",
      "Method:                 Least Squares   F-statistic:                     93.01\n",
      "Date:                Fri, 13 Aug 2021   Prob (F-statistic):          1.02e-110\n",
      "Time:                        04:49:52   Log-Likelihood:                -1196.3\n",
      "No. Observations:                 404   AIC:                             2421.\n",
      "Df Residuals:                     390   BIC:                             2477.\n",
      "Df Model:                          13                                         \n",
      "Covariance Type:            nonrobust                                         \n",
      "==============================================================================\n",
      "                 coef    std err          t      P>|t|      [0.025      0.975]\n",
      "------------------------------------------------------------------------------\n",
      "const         35.0744      5.844      6.002      0.000      23.585      46.564\n",
      "CRIM          -0.1146      0.034     -3.419      0.001      -0.180      -0.049\n",
      "ZN             0.0532      0.015      3.488      0.001       0.023       0.083\n",
      "INDUS          0.0033      0.068      0.048      0.962      -0.131       0.138\n",
      "CHAS           3.5085      1.013      3.464      0.001       1.517       5.500\n",
      "NOX          -18.1357      4.211     -4.307      0.000     -26.414      -9.857\n",
      "RM             3.8252      0.478      8.011      0.000       2.886       4.764\n",
      "AGE            0.0111      0.015      0.714      0.476      -0.019       0.042\n",
      "DIS           -1.5300      0.227     -6.731      0.000      -1.977      -1.083\n",
      "RAD            0.3392      0.071      4.747      0.000       0.199       0.480\n",
      "TAX           -0.0119      0.004     -2.918      0.004      -0.020      -0.004\n",
      "PTRATIO       -0.8842      0.149     -5.920      0.000      -1.178      -0.591\n",
      "B              0.0095      0.003      3.227      0.001       0.004       0.015\n",
      "LSTAT         -0.5782      0.059     -9.850      0.000      -0.694      -0.463\n",
      "==============================================================================\n",
      "Omnibus:                      137.227   Durbin-Watson:                   1.873\n",
      "Prob(Omnibus):                  0.000   Jarque-Bera (JB):              530.658\n",
      "Skew:                           1.475   Prob(JB):                    5.88e-116\n",
      "Kurtosis:                       7.777   Cond. No.                     1.55e+04\n",
      "==============================================================================\n",
      "\n",
      "Notes:\n",
      "[1] Standard Errors assume that the covariance matrix of the errors is correctly specified.\n",
      "[2] The condition number is large, 1.55e+04. This might indicate that there are\n",
      "strong multicollinearity or other numerical problems.\n"
     ]
    }
   ],
   "source": [
    "#구축한 모델의 summary 값 출력\n",
    "print(model_trained.summary())"
   ]
  },
  {
   "cell_type": "code",
   "execution_count": 16,
   "id": "13cf7a15",
   "metadata": {},
   "outputs": [
    {
     "name": "stdout",
     "output_type": "stream",
     "text": [
      "                            OLS Regression Results                            \n",
      "==============================================================================\n",
      "Dep. Variable:                   MEDV   R-squared:                       0.756\n",
      "Model:                            OLS   Adj. R-squared:                  0.749\n",
      "Method:                 Least Squares   F-statistic:                     110.3\n",
      "Date:                Fri, 13 Aug 2021   Prob (F-statistic):          1.19e-112\n",
      "Time:                        04:49:52   Log-Likelihood:                -1196.5\n",
      "No. Observations:                 404   AIC:                             2417.\n",
      "Df Residuals:                     392   BIC:                             2465.\n",
      "Df Model:                          11                                         \n",
      "Covariance Type:            nonrobust                                         \n",
      "==============================================================================\n",
      "                 coef    std err          t      P>|t|      [0.025      0.975]\n",
      "------------------------------------------------------------------------------\n",
      "const         34.6295      5.783      5.988      0.000      23.260      45.999\n",
      "CRIM          -0.1149      0.033     -3.441      0.001      -0.181      -0.049\n",
      "ZN             0.0522      0.015      3.449      0.001       0.022       0.082\n",
      "CHAS           3.5374      1.007      3.514      0.000       1.558       5.516\n",
      "NOX          -17.2688      3.883     -4.447      0.000     -24.903      -9.635\n",
      "RM             3.9019      0.463      8.426      0.000       2.991       4.812\n",
      "DIS           -1.5845      0.208     -7.603      0.000      -1.994      -1.175\n",
      "RAD            0.3354      0.068      4.931      0.000       0.202       0.469\n",
      "TAX           -0.0118      0.004     -3.253      0.001      -0.019      -0.005\n",
      "PTRATIO       -0.8708      0.146     -5.949      0.000      -1.159      -0.583\n",
      "B              0.0097      0.003      3.293      0.001       0.004       0.015\n",
      "LSTAT         -0.5624      0.054    -10.385      0.000      -0.669      -0.456\n",
      "==============================================================================\n",
      "Omnibus:                      141.554   Durbin-Watson:                   1.873\n",
      "Prob(Omnibus):                  0.000   Jarque-Bera (JB):              569.018\n",
      "Skew:                           1.511   Prob(JB):                    2.75e-124\n",
      "Kurtosis:                       7.967   Cond. No.                     1.50e+04\n",
      "==============================================================================\n",
      "\n",
      "Notes:\n",
      "[1] Standard Errors assume that the covariance matrix of the errors is correctly specified.\n",
      "[2] The condition number is large, 1.5e+04. This might indicate that there are\n",
      "strong multicollinearity or other numerical problems.\n"
     ]
    }
   ],
   "source": [
    "#INDUS와 AGE 변수의 P-value값이 다른 것들과 다르게 비정상적으로 높음을 알 수 있음\n",
    "#INDUS, AGE 제거\n",
    "model = sm.OLS(y_train, X_train.drop(['INDUS', 'AGE'], axis=1))\n",
    "model_trained = model.fit()\n",
    "\n",
    "print(model_trained.summary())"
   ]
  },
  {
   "cell_type": "markdown",
   "id": "87c6e4c6",
   "metadata": {},
   "source": [
    "### 릿지 회귀"
   ]
  },
  {
   "cell_type": "code",
   "execution_count": 17,
   "id": "65a41d1f",
   "metadata": {},
   "outputs": [],
   "source": [
    "X_data = X_train[['CRIM', 'ZN', 'CHAS', 'NOX', 'RM', 'DIS', 'RAD',\n",
    "       'TAX', 'PTRATIO', 'B', 'LSTAT']]"
   ]
  },
  {
   "cell_type": "code",
   "execution_count": 18,
   "id": "d830b73b",
   "metadata": {},
   "outputs": [],
   "source": [
    "y_target = y_train[['MEDV']]"
   ]
  },
  {
   "cell_type": "code",
   "execution_count": 19,
   "id": "d8df22b5",
   "metadata": {},
   "outputs": [],
   "source": [
    "from sklearn.linear_model import Ridge\n",
    "from sklearn.model_selection import cross_val_score\n",
    "\n",
    "#alpha=10으로 설정하여 릿지 회귀 수행\n",
    "ridge = Ridge(alpha = 10)\n",
    "neg_mse_scores = cross_val_score(ridge, X_data, y_target, scoring=\"neg_mean_squared_error\", cv=5)\n",
    "rmse_scores = np.sqrt(-1*neg_mse_scores)\n",
    "avg_rmse = np.mean(rmse_scores)"
   ]
  },
  {
   "cell_type": "code",
   "execution_count": 20,
   "id": "875eec70",
   "metadata": {},
   "outputs": [
    {
     "name": "stdout",
     "output_type": "stream",
     "text": [
      "5 folds 의 개별 Negative MSE scores:  [-18.32  -23.07  -30.404 -34.561 -16.246]\n",
      "5 folds 의 개별 RMSE scores:  [4.28  4.803 5.514 5.879 4.031]\n",
      "5 folds 의 평균 RMSE:  4.901351\n"
     ]
    }
   ],
   "source": [
    "print('5 folds 의 개별 Negative MSE scores: ', np.round(neg_mse_scores,3))\n",
    "print('5 folds 의 개별 RMSE scores: ', np.round(rmse_scores,3))\n",
    "print('5 folds 의 평균 RMSE: {0: 3f}'.format(avg_rmse))"
   ]
  },
  {
   "cell_type": "code",
   "execution_count": 21,
   "id": "139a248f",
   "metadata": {},
   "outputs": [
    {
     "name": "stdout",
     "output_type": "stream",
     "text": [
      "alpha 0 일때 5 folds 의 평균 RMSE: 4.801\n",
      "alpha 0.1 일때 5 folds 의 평균 RMSE: 4.802\n",
      "alpha 1 일때 5 folds 의 평균 RMSE: 4.829\n",
      "alpha 10 일때 5 folds 의 평균 RMSE: 4.901\n",
      "alpha 100 일때 5 folds 의 평균 RMSE: 5.057\n"
     ]
    }
   ],
   "source": [
    "#릿지에 사용될 alpha 파라미터의 값을 정의\n",
    "alphas = [0, 0.1, 1, 10, 100]\n",
    "\n",
    "#alphas list 값을 반복하면서 alpha에 따른 평균 rmse를 구함\n",
    "for alpha in alphas : \n",
    "    ridge = Ridge(alpha = alpha)\n",
    "    \n",
    "     #cross_val_score를 이용해 5 폴드의 평균 RMSE를 계산\n",
    "    neg_mse_scores = cross_val_score(ridge, X_data, y_target, scoring=\"neg_mean_squared_error\", cv=5)\n",
    "    avg_rmse = np.mean(np.sqrt(-1*neg_mse_scores))\n",
    "    print('alpha {0} 일때 5 folds 의 평균 RMSE: {1:.3f}'.format(alpha, avg_rmse))"
   ]
  },
  {
   "cell_type": "code",
   "execution_count": 22,
   "id": "bbb7e0a5",
   "metadata": {},
   "outputs": [
    {
     "data": {
      "image/png": "[encoded data removed]",
      "text/plain": [
       "<Figure size 1296x432 with 5 Axes>"
      ]
     },
     "metadata": {
      "needs_background": "light"
     },
     "output_type": "display_data"
    }
   ],
   "source": [
    "#각 alpha에 따른 회귀 계수 값을 시각화하기 위해 5개의 열로 된 맷플롯립 축 생성\n",
    "fig, axs = plt.subplots(figsize=(18, 6), nrows=1, ncols=5)\n",
    "\n",
    "#각 alpha에 따른 회귀 계수 값을 데이터로 저장하기 위한 DataFrame 생성\n",
    "coeff_df = pd.DataFrame()\n",
    "\n",
    "#alphas 리스트 값을 차례로 입력해 회귀 계수 값 시각화 및 데이터 저장. pos는 axis의 위치 지정\n",
    "for pos, alpha in enumerate(alphas):\n",
    "    ridge = Ridge(alpha = alpha)\n",
    "    ridge.fit(X_data, y_target)\n",
    "    #alpha에 따른 피처별로 회귀 계수를 Series로 변환하고 이를 DataFrame의 칼럼으로 추가.\n",
    "    coeff = pd.Series(data=ridge.coef_.flatten(), index=X_data.columns)\n",
    "    colname = 'alpha:'+str(alpha)\n",
    "    coeff_df[colname] = coeff\n",
    "    #막대 그래프로 각 alpha 값에서의 회귀 계수를 시각화. 회귀 계수 값이 높은 순으로 표현\n",
    "    coeff = coeff.sort_values(ascending=False)\n",
    "    axs[pos].set_title(colname)\n",
    "    axs[pos].set_xlim(-3, 6)\n",
    "    sns.barplot(x=coeff.values, y=coeff.index, ax=axs[pos])\n",
    "    \n",
    "#for문 바깥에서 맷플롯립의 show 호출 및 alpha에 따른 피처별 회귀 계수를 DataFrame으로 표시\n",
    "plt.show()"
   ]
  },
  {
   "cell_type": "code",
   "execution_count": 23,
   "id": "a80a5e08",
   "metadata": {},
   "outputs": [
    {
     "data": {
      "text/html": [
       "<div>\n",
       "<style scoped>\n",
       "    .dataframe tbody tr th:only-of-type {\n",
       "        vertical-align: middle;\n",
       "    }\n",
       "\n",
       "    .dataframe tbody tr th {\n",
       "        vertical-align: top;\n",
       "    }\n",
       "\n",
       "    .dataframe thead th {\n",
       "        text-align: right;\n",
       "    }\n",
       "</style>\n",
       "<table border=\"1\" class=\"dataframe\">\n",
       "  <thead>\n",
       "    <tr style=\"text-align: right;\">\n",
       "      <th></th>\n",
       "      <th>alpha:0</th>\n",
       "      <th>alpha:0.1</th>\n",
       "      <th>alpha:1</th>\n",
       "      <th>alpha:10</th>\n",
       "      <th>alpha:100</th>\n",
       "    </tr>\n",
       "  </thead>\n",
       "  <tbody>\n",
       "    <tr>\n",
       "      <th>RM</th>\n",
       "      <td>3.901894</td>\n",
       "      <td>3.912945</td>\n",
       "      <td>3.959673</td>\n",
       "      <td>3.771087</td>\n",
       "      <td>2.224547</td>\n",
       "    </tr>\n",
       "    <tr>\n",
       "      <th>CHAS</th>\n",
       "      <td>3.537445</td>\n",
       "      <td>3.483587</td>\n",
       "      <td>3.153787</td>\n",
       "      <td>2.106509</td>\n",
       "      <td>0.597113</td>\n",
       "    </tr>\n",
       "    <tr>\n",
       "      <th>RAD</th>\n",
       "      <td>0.335401</td>\n",
       "      <td>0.334595</td>\n",
       "      <td>0.330740</td>\n",
       "      <td>0.334111</td>\n",
       "      <td>0.372536</td>\n",
       "    </tr>\n",
       "    <tr>\n",
       "      <th>ZN</th>\n",
       "      <td>0.052179</td>\n",
       "      <td>0.052592</td>\n",
       "      <td>0.054876</td>\n",
       "      <td>0.059193</td>\n",
       "      <td>0.064103</td>\n",
       "    </tr>\n",
       "    <tr>\n",
       "      <th>B</th>\n",
       "      <td>0.009677</td>\n",
       "      <td>0.009756</td>\n",
       "      <td>0.010175</td>\n",
       "      <td>0.010634</td>\n",
       "      <td>0.009799</td>\n",
       "    </tr>\n",
       "    <tr>\n",
       "      <th>TAX</th>\n",
       "      <td>-0.011779</td>\n",
       "      <td>-0.012020</td>\n",
       "      <td>-0.013333</td>\n",
       "      <td>-0.015457</td>\n",
       "      <td>-0.017358</td>\n",
       "    </tr>\n",
       "    <tr>\n",
       "      <th>CRIM</th>\n",
       "      <td>-0.114938</td>\n",
       "      <td>-0.114148</td>\n",
       "      <td>-0.109961</td>\n",
       "      <td>-0.105234</td>\n",
       "      <td>-0.105290</td>\n",
       "    </tr>\n",
       "    <tr>\n",
       "      <th>LSTAT</th>\n",
       "      <td>-0.562419</td>\n",
       "      <td>-0.566018</td>\n",
       "      <td>-0.586375</td>\n",
       "      <td>-0.632645</td>\n",
       "      <td>-0.735444</td>\n",
       "    </tr>\n",
       "    <tr>\n",
       "      <th>PTRATIO</th>\n",
       "      <td>-0.870833</td>\n",
       "      <td>-0.858159</td>\n",
       "      <td>-0.791002</td>\n",
       "      <td>-0.716852</td>\n",
       "      <td>-0.756977</td>\n",
       "    </tr>\n",
       "    <tr>\n",
       "      <th>DIS</th>\n",
       "      <td>-1.584529</td>\n",
       "      <td>-1.557078</td>\n",
       "      <td>-1.410629</td>\n",
       "      <td>-1.230723</td>\n",
       "      <td>-1.201253</td>\n",
       "    </tr>\n",
       "    <tr>\n",
       "      <th>NOX</th>\n",
       "      <td>-17.268828</td>\n",
       "      <td>-16.179018</td>\n",
       "      <td>-10.307603</td>\n",
       "      <td>-2.191308</td>\n",
       "      <td>-0.225076</td>\n",
       "    </tr>\n",
       "  </tbody>\n",
       "</table>\n",
       "</div>"
      ],
      "text/plain": [
       "           alpha:0  alpha:0.1    alpha:1  alpha:10  alpha:100\n",
       "RM        3.901894   3.912945   3.959673  3.771087   2.224547\n",
       "CHAS      3.537445   3.483587   3.153787  2.106509   0.597113\n",
       "RAD       0.335401   0.334595   0.330740  0.334111   0.372536\n",
       "ZN        0.052179   0.052592   0.054876  0.059193   0.064103\n",
       "B         0.009677   0.009756   0.010175  0.010634   0.009799\n",
       "TAX      -0.011779  -0.012020  -0.013333 -0.015457  -0.017358\n",
       "CRIM     -0.114938  -0.114148  -0.109961 -0.105234  -0.105290\n",
       "LSTAT    -0.562419  -0.566018  -0.586375 -0.632645  -0.735444\n",
       "PTRATIO  -0.870833  -0.858159  -0.791002 -0.716852  -0.756977\n",
       "DIS      -1.584529  -1.557078  -1.410629 -1.230723  -1.201253\n",
       "NOX     -17.268828 -16.179018 -10.307603 -2.191308  -0.225076"
      ]
     },
     "execution_count": 23,
     "metadata": {},
     "output_type": "execute_result"
    }
   ],
   "source": [
    "ridge_alphas = [0, 0.1, 1, 10, 100]\n",
    "sort_column = 'alpha:'+str(ridge_alphas[0])\n",
    "coeff_df.sort_values(by=sort_column, ascending=False)"
   ]
  },
  {
   "cell_type": "markdown",
   "id": "67dafddb",
   "metadata": {},
   "source": [
    "### 라쏘 회귀"
   ]
  },
  {
   "cell_type": "code",
   "execution_count": 24,
   "id": "63fb90c9",
   "metadata": {},
   "outputs": [],
   "source": [
    "from sklearn. linear_model import Lasso, ElasticNet"
   ]
  },
  {
   "cell_type": "code",
   "execution_count": 25,
   "id": "3f5648a3",
   "metadata": {},
   "outputs": [],
   "source": [
    "#alpha 값에 따른 회귀 모델의 폴드 평균 RMSE를 출력하고 회귀 계수 값들을 DataFrame으로 변환\n",
    "def get_linear_reg_eval(model_name, params=None, X_data_n=None, y_target_n=None, verbose=True):\n",
    "    coeff_df = pd.DataFrame()\n",
    "    if verbose : print('#######', model_name, '#######')\n",
    "    for param in params:\n",
    "        if model_name == 'Ridge': model = Ridge(alpha=param)\n",
    "        elif model_name == 'Lasso': model = Lasso(alpha=param)\n",
    "        elif model_name == 'ElasticNet': model = ElasticNet(alpha=param, l1_ratio=0.7)\n",
    "        neg_mse_scores = cross_val_score(model, X_data_n, y_target_n,\n",
    "                                        scoring=\"neg_mean_squared_error\", cv=5)\n",
    "        avg_rmse = np.mean(np.sqrt(-1 * neg_mse_scores))\n",
    "        print('alpha {0} 일 때 5 폴드 세트의 평균 RMSE: {1:.3f}'.format(param, avg_rmse))\n",
    "        \n",
    "        #cross_val_score는 evaluation metric만 반환하므로 모델을 다시 학습하여 회귀 계수 추출\n",
    "        model.fit(X_data, y_target)\n",
    "        \n",
    "        #alpha에 따른 피처별 회귀 계수를 Series로 변환하고 이를 DataFrame의 칼럼으로 추가\n",
    "        coeff = pd.Series(data=model.coef_, index=X_data.columns)\n",
    "        colname='alpha:'+str(param)\n",
    "        coeff_df[colname] = coeff\n",
    "    return coeff_df\n",
    "#end of get_linear_regre_eval"
   ]
  },
  {
   "cell_type": "code",
   "execution_count": 26,
   "id": "63c4289f",
   "metadata": {},
   "outputs": [
    {
     "name": "stdout",
     "output_type": "stream",
     "text": [
      "####### Lasso #######\n",
      "alpha 0.07 일 때 5 폴드 세트의 평균 RMSE: 4.933\n",
      "alpha 0.1 일 때 5 폴드 세트의 평균 RMSE: 4.943\n",
      "alpha 0.5 일 때 5 폴드 세트의 평균 RMSE: 5.019\n",
      "alpha 1 일 때 5 폴드 세트의 평균 RMSE: 5.262\n",
      "alpha 3 일 때 5 폴드 세트의 평균 RMSE: 6.026\n"
     ]
    }
   ],
   "source": [
    "#라쏘에 사용될 alpha 파라미터 값을 정의하고 get_linear_reg_eval() 함수 호출\n",
    "lasso_alphas = [0.07, 0.1, 0.5, 1, 3]\n",
    "coeff_lasso_df = get_linear_reg_eval('Lasso', params=lasso_alphas, X_data_n=X_data, y_target_n=y_target)"
   ]
  },
  {
   "cell_type": "code",
   "execution_count": 27,
   "id": "ff7dd31d",
   "metadata": {},
   "outputs": [
    {
     "data": {
      "text/html": [
       "<div>\n",
       "<style scoped>\n",
       "    .dataframe tbody tr th:only-of-type {\n",
       "        vertical-align: middle;\n",
       "    }\n",
       "\n",
       "    .dataframe tbody tr th {\n",
       "        vertical-align: top;\n",
       "    }\n",
       "\n",
       "    .dataframe thead th {\n",
       "        text-align: right;\n",
       "    }\n",
       "</style>\n",
       "<table border=\"1\" class=\"dataframe\">\n",
       "  <thead>\n",
       "    <tr style=\"text-align: right;\">\n",
       "      <th></th>\n",
       "      <th>alpha:0.07</th>\n",
       "      <th>alpha:0.1</th>\n",
       "      <th>alpha:0.5</th>\n",
       "      <th>alpha:1</th>\n",
       "      <th>alpha:3</th>\n",
       "    </tr>\n",
       "  </thead>\n",
       "  <tbody>\n",
       "    <tr>\n",
       "      <th>RM</th>\n",
       "      <td>3.931070</td>\n",
       "      <td>3.845716</td>\n",
       "      <td>2.658220</td>\n",
       "      <td>1.159631</td>\n",
       "      <td>0.000000</td>\n",
       "    </tr>\n",
       "    <tr>\n",
       "      <th>CHAS</th>\n",
       "      <td>1.751580</td>\n",
       "      <td>1.250444</td>\n",
       "      <td>0.000000</td>\n",
       "      <td>0.000000</td>\n",
       "      <td>0.000000</td>\n",
       "    </tr>\n",
       "    <tr>\n",
       "      <th>RAD</th>\n",
       "      <td>0.323527</td>\n",
       "      <td>0.324928</td>\n",
       "      <td>0.320830</td>\n",
       "      <td>0.309148</td>\n",
       "      <td>0.136134</td>\n",
       "    </tr>\n",
       "    <tr>\n",
       "      <th>ZN</th>\n",
       "      <td>0.058531</td>\n",
       "      <td>0.058554</td>\n",
       "      <td>0.057915</td>\n",
       "      <td>0.056843</td>\n",
       "      <td>0.023818</td>\n",
       "    </tr>\n",
       "    <tr>\n",
       "      <th>B</th>\n",
       "      <td>0.010876</td>\n",
       "      <td>0.010848</td>\n",
       "      <td>0.009966</td>\n",
       "      <td>0.008717</td>\n",
       "      <td>0.006896</td>\n",
       "    </tr>\n",
       "    <tr>\n",
       "      <th>NOX</th>\n",
       "      <td>-0.000000</td>\n",
       "      <td>-0.000000</td>\n",
       "      <td>-0.000000</td>\n",
       "      <td>-0.000000</td>\n",
       "      <td>0.000000</td>\n",
       "    </tr>\n",
       "    <tr>\n",
       "      <th>TAX</th>\n",
       "      <td>-0.015566</td>\n",
       "      <td>-0.015586</td>\n",
       "      <td>-0.015485</td>\n",
       "      <td>-0.015252</td>\n",
       "      <td>-0.008456</td>\n",
       "    </tr>\n",
       "    <tr>\n",
       "      <th>CRIM</th>\n",
       "      <td>-0.101802</td>\n",
       "      <td>-0.101716</td>\n",
       "      <td>-0.091435</td>\n",
       "      <td>-0.075956</td>\n",
       "      <td>-0.008520</td>\n",
       "    </tr>\n",
       "    <tr>\n",
       "      <th>LSTAT</th>\n",
       "      <td>-0.631444</td>\n",
       "      <td>-0.638465</td>\n",
       "      <td>-0.707266</td>\n",
       "      <td>-0.786128</td>\n",
       "      <td>-0.800143</td>\n",
       "    </tr>\n",
       "    <tr>\n",
       "      <th>PTRATIO</th>\n",
       "      <td>-0.678491</td>\n",
       "      <td>-0.684671</td>\n",
       "      <td>-0.672267</td>\n",
       "      <td>-0.629477</td>\n",
       "      <td>-0.273251</td>\n",
       "    </tr>\n",
       "    <tr>\n",
       "      <th>DIS</th>\n",
       "      <td>-1.152447</td>\n",
       "      <td>-1.156644</td>\n",
       "      <td>-1.078894</td>\n",
       "      <td>-0.943226</td>\n",
       "      <td>-0.036603</td>\n",
       "    </tr>\n",
       "  </tbody>\n",
       "</table>\n",
       "</div>"
      ],
      "text/plain": [
       "         alpha:0.07  alpha:0.1  alpha:0.5   alpha:1   alpha:3\n",
       "RM         3.931070   3.845716   2.658220  1.159631  0.000000\n",
       "CHAS       1.751580   1.250444   0.000000  0.000000  0.000000\n",
       "RAD        0.323527   0.324928   0.320830  0.309148  0.136134\n",
       "ZN         0.058531   0.058554   0.057915  0.056843  0.023818\n",
       "B          0.010876   0.010848   0.009966  0.008717  0.006896\n",
       "NOX       -0.000000  -0.000000  -0.000000 -0.000000  0.000000\n",
       "TAX       -0.015566  -0.015586  -0.015485 -0.015252 -0.008456\n",
       "CRIM      -0.101802  -0.101716  -0.091435 -0.075956 -0.008520\n",
       "LSTAT     -0.631444  -0.638465  -0.707266 -0.786128 -0.800143\n",
       "PTRATIO   -0.678491  -0.684671  -0.672267 -0.629477 -0.273251\n",
       "DIS       -1.152447  -1.156644  -1.078894 -0.943226 -0.036603"
      ]
     },
     "execution_count": 27,
     "metadata": {},
     "output_type": "execute_result"
    }
   ],
   "source": [
    "#반환된 coeff_lasso_df를 첫 번째 칼럼 순으로 내림차순 정렬해 회귀 계수 DataFrame 츨력\n",
    "sort_column = 'alpha:'+str(lasso_alphas[0])\n",
    "coeff_lasso_df.sort_values(by=sort_column, ascending=False)"
   ]
  },
  {
   "cell_type": "markdown",
   "id": "ff995f84",
   "metadata": {},
   "source": [
    "### 엘라스틱넷"
   ]
  },
  {
   "cell_type": "code",
   "execution_count": 28,
   "id": "9496be14",
   "metadata": {},
   "outputs": [
    {
     "name": "stdout",
     "output_type": "stream",
     "text": [
      "####### ElasticNet #######\n",
      "alpha 0.07 일 때 5 폴드 세트의 평균 RMSE: 4.926\n",
      "alpha 0.1 일 때 5 폴드 세트의 평균 RMSE: 4.940\n",
      "alpha 0.5 일 때 5 폴드 세트의 평균 RMSE: 5.076\n",
      "alpha 1 일 때 5 폴드 세트의 평균 RMSE: 5.257\n",
      "alpha 3 일 때 5 폴드 세트의 평균 RMSE: 5.804\n"
     ]
    }
   ],
   "source": [
    "#엘라스틱넷에 사용될 alpha 파라미터의 값들을 정의하고 get_linear_reg_eval() 함수 호출\n",
    "#l1_ratio는 0.7로 고정\n",
    "elastic_alphas = [0.07, 0.1, 0.5, 1, 3]\n",
    "coeff_elastic_df = get_linear_reg_eval('ElasticNet', params=elastic_alphas,\n",
    "                                      X_data_n=X_data, y_target_n=y_target)"
   ]
  },
  {
   "cell_type": "code",
   "execution_count": 29,
   "id": "cac2714c",
   "metadata": {},
   "outputs": [
    {
     "data": {
      "text/html": [
       "<div>\n",
       "<style scoped>\n",
       "    .dataframe tbody tr th:only-of-type {\n",
       "        vertical-align: middle;\n",
       "    }\n",
       "\n",
       "    .dataframe tbody tr th {\n",
       "        vertical-align: top;\n",
       "    }\n",
       "\n",
       "    .dataframe thead th {\n",
       "        text-align: right;\n",
       "    }\n",
       "</style>\n",
       "<table border=\"1\" class=\"dataframe\">\n",
       "  <thead>\n",
       "    <tr style=\"text-align: right;\">\n",
       "      <th></th>\n",
       "      <th>alpha:0.07</th>\n",
       "      <th>alpha:0.1</th>\n",
       "      <th>alpha:0.5</th>\n",
       "      <th>alpha:1</th>\n",
       "      <th>alpha:3</th>\n",
       "    </tr>\n",
       "  </thead>\n",
       "  <tbody>\n",
       "    <tr>\n",
       "      <th>RM</th>\n",
       "      <td>3.707684</td>\n",
       "      <td>3.551124</td>\n",
       "      <td>2.041451</td>\n",
       "      <td>1.046051</td>\n",
       "      <td>0.000000</td>\n",
       "    </tr>\n",
       "    <tr>\n",
       "      <th>CHAS</th>\n",
       "      <td>1.563542</td>\n",
       "      <td>1.168854</td>\n",
       "      <td>0.000000</td>\n",
       "      <td>0.000000</td>\n",
       "      <td>0.000000</td>\n",
       "    </tr>\n",
       "    <tr>\n",
       "      <th>RAD</th>\n",
       "      <td>0.332068</td>\n",
       "      <td>0.335190</td>\n",
       "      <td>0.347655</td>\n",
       "      <td>0.333840</td>\n",
       "      <td>0.211624</td>\n",
       "    </tr>\n",
       "    <tr>\n",
       "      <th>ZN</th>\n",
       "      <td>0.059596</td>\n",
       "      <td>0.060175</td>\n",
       "      <td>0.061152</td>\n",
       "      <td>0.057903</td>\n",
       "      <td>0.038192</td>\n",
       "    </tr>\n",
       "    <tr>\n",
       "      <th>B</th>\n",
       "      <td>0.010722</td>\n",
       "      <td>0.010668</td>\n",
       "      <td>0.009597</td>\n",
       "      <td>0.008729</td>\n",
       "      <td>0.007348</td>\n",
       "    </tr>\n",
       "    <tr>\n",
       "      <th>TAX</th>\n",
       "      <td>-0.015785</td>\n",
       "      <td>-0.016002</td>\n",
       "      <td>-0.016511</td>\n",
       "      <td>-0.016048</td>\n",
       "      <td>-0.011686</td>\n",
       "    </tr>\n",
       "    <tr>\n",
       "      <th>CRIM</th>\n",
       "      <td>-0.103209</td>\n",
       "      <td>-0.102867</td>\n",
       "      <td>-0.095648</td>\n",
       "      <td>-0.083677</td>\n",
       "      <td>-0.038035</td>\n",
       "    </tr>\n",
       "    <tr>\n",
       "      <th>NOX</th>\n",
       "      <td>-0.452226</td>\n",
       "      <td>-0.000000</td>\n",
       "      <td>-0.000000</td>\n",
       "      <td>-0.000000</td>\n",
       "      <td>0.000000</td>\n",
       "    </tr>\n",
       "    <tr>\n",
       "      <th>LSTAT</th>\n",
       "      <td>-0.644522</td>\n",
       "      <td>-0.657036</td>\n",
       "      <td>-0.744428</td>\n",
       "      <td>-0.790930</td>\n",
       "      <td>-0.800635</td>\n",
       "    </tr>\n",
       "    <tr>\n",
       "      <th>PTRATIO</th>\n",
       "      <td>-0.698383</td>\n",
       "      <td>-0.700953</td>\n",
       "      <td>-0.711982</td>\n",
       "      <td>-0.664934</td>\n",
       "      <td>-0.382721</td>\n",
       "    </tr>\n",
       "    <tr>\n",
       "      <th>DIS</th>\n",
       "      <td>-1.183404</td>\n",
       "      <td>-1.177915</td>\n",
       "      <td>-1.115768</td>\n",
       "      <td>-0.957637</td>\n",
       "      <td>-0.338875</td>\n",
       "    </tr>\n",
       "  </tbody>\n",
       "</table>\n",
       "</div>"
      ],
      "text/plain": [
       "         alpha:0.07  alpha:0.1  alpha:0.5   alpha:1   alpha:3\n",
       "RM         3.707684   3.551124   2.041451  1.046051  0.000000\n",
       "CHAS       1.563542   1.168854   0.000000  0.000000  0.000000\n",
       "RAD        0.332068   0.335190   0.347655  0.333840  0.211624\n",
       "ZN         0.059596   0.060175   0.061152  0.057903  0.038192\n",
       "B          0.010722   0.010668   0.009597  0.008729  0.007348\n",
       "TAX       -0.015785  -0.016002  -0.016511 -0.016048 -0.011686\n",
       "CRIM      -0.103209  -0.102867  -0.095648 -0.083677 -0.038035\n",
       "NOX       -0.452226  -0.000000  -0.000000 -0.000000  0.000000\n",
       "LSTAT     -0.644522  -0.657036  -0.744428 -0.790930 -0.800635\n",
       "PTRATIO   -0.698383  -0.700953  -0.711982 -0.664934 -0.382721\n",
       "DIS       -1.183404  -1.177915  -1.115768 -0.957637 -0.338875"
      ]
     },
     "execution_count": 29,
     "metadata": {},
     "output_type": "execute_result"
    }
   ],
   "source": [
    "#반환된 coeff_elastic_df를 첫 번째 칼럼 순으로 내림차순 정렬해 회귀 계수 DataFrame 출력\n",
    "sort_column = 'alpha:'+str(elastic_alphas[0])\n",
    "coeff_elastic_df.sort_values(by=sort_column, ascending=False)"
   ]
  },
  {
   "cell_type": "markdown",
   "id": "1fe2d46e",
   "metadata": {},
   "source": [
    "## 정리\n",
    "#### ·선형 회귀 모델의 성능을 측정하는 평가 지표로 RMSE를 사용할 수 있다.\n",
    "#### ·과분산 선형 회귀 모델에 대해 규제를 적용하면 오버피팅 이슈를 감소시킬 수 있다. \n",
    "#### ·릿지 회귀 모델은 규제가 있는 선형 회귀 모델로, 가중치 벡터의 제곱항을 합한 L2 노름을 2로 나눈 값을 적용한다.\n",
    "#### ·라쏘 회귀 모델은 규제가 있는 선형 회귀 모델로, 가중치 벡터의 절댓값의 합인 L1 노름을 적용한다.\n",
    "#### ·엘라스틱 넷 모델은 릿지 회귀 모델과 라쏘 회귀 모델을 혼합하여 사용한다.\n"
   ]
  }
 ],
 "metadata": {
  "kernelspec": {
   "display_name": "Python 3",
   "language": "python",
   "name": "python3"
  },
  "language_info": {
   "codemirror_mode": {
    "name": "ipython",
    "version": 3
   },
   "file_extension": ".py",
   "mimetype": "text/x-python",
   "name": "python",
   "nbconvert_exporter": "python",
   "pygments_lexer": "ipython3",
   "version": "3.8.10"
  }
 },
 "nbformat": 4,
 "nbformat_minor": 5
}
